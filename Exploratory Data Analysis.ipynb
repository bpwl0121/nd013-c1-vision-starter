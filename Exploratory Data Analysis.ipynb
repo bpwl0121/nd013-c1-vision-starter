{
 "cells": [
  {
   "cell_type": "markdown",
   "source": [
    "# Explore the dataset\r\n",
    "\r\n",
    "\r\n",
    "In this notebook, we will perform an EDA (Exploratory Data Analysis) on the processed Waymo dataset (data in the `processed` folder). In the first part, you will create a function to display "
   ],
   "metadata": {}
  },
  {
   "cell_type": "code",
   "execution_count": null,
   "source": [
    "from utils import get_dataset"
   ],
   "outputs": [],
   "metadata": {}
  },
  {
   "cell_type": "code",
   "execution_count": null,
   "source": [
    "dataset = get_dataset(\"/home/workspace/data/processed/*.tfrecord\")"
   ],
   "outputs": [],
   "metadata": {}
  },
  {
   "cell_type": "markdown",
   "source": [
    "## Write a function to display an image and the bounding boxes\r\n",
    "\r\n",
    "Implement the `display_instances` function below. This function takes a batch as an input and display an image with its corresponding bounding boxes. The only requirement is that the classes should be color coded (eg, vehicles in red, pedestrians in blue, cyclist in green)."
   ],
   "metadata": {}
  },
  {
   "cell_type": "code",
   "execution_count": null,
   "source": [
    "def display_instances(batch):\r\n",
    "    \"\"\"\r\n",
    "    This function takes a batch from the dataset and display the image with \r\n",
    "    the associated bounding boxes.\r\n",
    "    \"\"\"\r\n",
    "\r\n",
    "    # from download_process.py\r\n",
    "    # mapping = {1: 'vehicle', 2: 'pedestrian', 4: 'cyclist'}\r\n",
    "    colormap = {1: [1, 0, 0], 2: [0, 1, 0], 4: [0, 0, 1]}\r\n",
    "\r\n",
    "    img = batch[\"image\"]\r\n",
    "\r\n",
    "    f, ax = plt.subplots(figsize=(20, 10))\r\n",
    "    ax.imshow(img)\r\n",
    "\r\n",
    "    groundtruth_classes = batch[\"groundtruth_classes\"]\r\n",
    "    groundtruth_boxes = batch[\"groundtruth_boxes\"]\r\n",
    "\r\n",
    "    for cl, bb in zip(groundtruth_classes, groundtruth_boxes):\r\n",
    "        # 640*640 \r\n",
    "        y1, x1, y2, x2 = bb * 640\r\n",
    "        rec = Rectangle((x1, y1), x2 - x1, y2-y1, facecolor='none',\r\n",
    "                        edgecolor=colormap[cl])\r\n",
    "        ax.add_patch(rec)\r\n",
    "        ax.axis('off')\r\n",
    "\r\n",
    "    plt.tight_layout()\r\n",
    "    plt.show()"
   ],
   "outputs": [],
   "metadata": {}
  },
  {
   "cell_type": "markdown",
   "source": [
    "## Display 10 images \r\n",
    "\r\n",
    "Using the dataset created in the second cell and the function you just coded, display 10 random images with the associated bounding boxes. You can use the methods `take` and `shuffle` on the dataset."
   ],
   "metadata": {}
  },
  {
   "cell_type": "code",
   "execution_count": null,
   "source": [
    "## STUDENT SOLUTION HERE\r\n",
    "for batch in dataset.take(10):\r\n",
    "    display_instances(batch)\r\n"
   ],
   "outputs": [],
   "metadata": {}
  },
  {
   "cell_type": "markdown",
   "source": [
    "## Additional EDA\r\n",
    "\r\n",
    "In this last part, you are free to perform any additional analysis of the dataset. What else would like to know about the data?\r\n",
    "For example, think about data distribution. So far, you have only looked at a single file..."
   ],
   "metadata": {}
  },
  {
   "cell_type": "code",
   "execution_count": null,
   "source": [],
   "outputs": [],
   "metadata": {}
  }
 ],
 "metadata": {
  "kernelspec": {
   "name": "python3",
   "display_name": "Python 3.6.8 64-bit ('base': conda)"
  },
  "language_info": {
   "codemirror_mode": {
    "name": "ipython",
    "version": 3
   },
   "file_extension": ".py",
   "mimetype": "text/x-python",
   "name": "python",
   "nbconvert_exporter": "python",
   "pygments_lexer": "ipython3",
   "version": "3.6.8"
  },
  "interpreter": {
   "hash": "772d2a6eaa48594e33a35662ba3590072b52a2923b82479664f0f419be61e96a"
  }
 },
 "nbformat": 4,
 "nbformat_minor": 4
}
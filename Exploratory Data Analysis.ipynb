{
 "cells": [
  {
   "cell_type": "markdown",
   "source": [
    "# Explore the dataset\n",
    "\n",
    "\n",
    "In this notebook, we will perform an EDA (Exploratory Data Analysis) on the processed Waymo dataset (data in the `processed` folder). In the first part, you will create a function to display "
   ],
   "metadata": {}
  },
  {
   "cell_type": "code",
   "execution_count": null,
   "source": [
    "from utils import get_dataset\r\n",
    "import matplotlib.pyplot as plt\r\n",
    "from matplotlib.patches import Rectangle\r\n",
    "%matplotlib inline\r\n",
    "\r\n",
    "#import matplotlib as mpl\r\n",
    "#mpl.use(\"TkAgg\")"
   ],
   "outputs": [],
   "metadata": {}
  },
  {
   "cell_type": "code",
   "execution_count": null,
   "source": [
    "dataset = get_dataset(\"/home/workspace/data/processed/*.tfrecord\")"
   ],
   "outputs": [],
   "metadata": {}
  },
  {
   "cell_type": "markdown",
   "source": [
    "## Write a function to display an image and the bounding boxes\n",
    "\n",
    "Implement the `display_instances` function below. This function takes a batch as an input and display an image with its corresponding bounding boxes. The only requirement is that the classes should be color coded (eg, vehicles in red, pedestrians in blue, cyclist in green)."
   ],
   "metadata": {}
  },
  {
   "cell_type": "code",
   "execution_count": null,
   "source": [
    "def display_instances(batch):\r\n",
    "    \"\"\"\r\n",
    "    This function takes a batch from the dataset and display the image with \r\n",
    "    the associated bounding boxes.\r\n",
    "    \"\"\"\r\n",
    "\r\n",
    "    # from download_process.py\r\n",
    "    # mapping = {1: 'vehicle', 2: 'pedestrian', 4: 'cyclist'}\r\n",
    "    colormap = {1: [1, 0, 0], 2: [0, 1, 0], 4: [0, 0, 1]}\r\n",
    "\r\n",
    "    img = batch[\"image\"]\r\n",
    "\r\n",
    "    f, ax = plt.subplots(figsize=(20, 10))\r\n",
    "    ax.imshow(img)\r\n",
    "\r\n",
    "    groundtruth_classes = batch[\"groundtruth_classes\"]\r\n",
    "    groundtruth_boxes = batch[\"groundtruth_boxes\"]\r\n",
    "\r\n",
    "    for cl, bb in zip(groundtruth_classes, groundtruth_boxes):\r\n",
    "        # 640*640 \r\n",
    "        y1, x1, y2, x2 = bb * 640\r\n",
    "        rec = Rectangle((x1, y1), x2 - x1, y2-y1, facecolor='none',\r\n",
    "                        edgecolor=colormap[cl.numpy()])\r\n",
    "        ax.add_patch(rec)\r\n",
    "        ax.axis('off')\r\n",
    "    \r\n",
    "    plt.tight_layout()\r\n",
    "    plt.show()"
   ],
   "outputs": [],
   "metadata": {}
  },
  {
   "cell_type": "markdown",
   "source": [
    "## Display 10 images \n",
    "\n",
    "Using the dataset created in the second cell and the function you just coded, display 10 random images with the associated bounding boxes. You can use the methods `take` and `shuffle` on the dataset."
   ],
   "metadata": {}
  },
  {
   "cell_type": "code",
   "execution_count": null,
   "source": [
    "## STUDENT SOLUTION HERE\r\n",
    "for batch in dataset.shuffle(100).take(10):\r\n",
    "    display_instances(batch)\r\n"
   ],
   "outputs": [],
   "metadata": {
    "scrolled": false
   }
  },
  {
   "cell_type": "markdown",
   "source": [
    "## Additional EDA\n",
    "\n",
    "In this last part, you are free to perform any additional analysis of the dataset. What else would like to know about the data?\n",
    "For example, think about data distribution. So far, you have only looked at a single file..."
   ],
   "metadata": {}
  },
  {
   "cell_type": "code",
   "execution_count": null,
   "source": [
    "def display_instances_EDA(max_batch,max_num,min_batch,min_num,class_name=None):\r\n",
    "    \"\"\"\r\n",
    "    This function takes a batch from the dataset and display the image with \r\n",
    "    the associated bounding boxes.\r\n",
    "    \"\"\"\r\n",
    "\r\n",
    "    # from download_process.py\r\n",
    "    mapping = {1: 'vehicle', 2: 'pedestrian', 4: 'cyclist'}\r\n",
    "    colormap = {1: [1, 0, 0], 2: [0, 1, 0], 4: [0, 0, 1]}\r\n",
    "\r\n",
    "    max_img = max_batch[\"image\"]\r\n",
    "    min_img = min_batch[\"image\"]\r\n",
    "\r\n",
    "    f, ax = plt.subplots(1,2)\r\n",
    "    ax[0].imshow(max_img)\r\n",
    "    ax[1].imshow(min_img)\r\n",
    "    \r\n",
    "    if class_name is None:\r\n",
    "        ax[0].set_title('max number of all classes is '+max_num)\r\n",
    "        ax[1].set_title('min number of all classes is '+min_num)\r\n",
    "    else:\r\n",
    "        ax[0].set_title('max number of '+mapping[class_name]+' is '+max_num)\r\n",
    "        ax[1].set_title('min number of '+mapping[class_name]+' is '+min_num)\r\n",
    "\r\n",
    "    groundtruth_classes = batch[\"groundtruth_classes\"]\r\n",
    "    groundtruth_boxes = batch[\"groundtruth_boxes\"]\r\n",
    "\r\n",
    "    for cl, bb in zip(groundtruth_classes, groundtruth_boxes):\r\n",
    "        # 640*640 \r\n",
    "        y1, x1, y2, x2 = bb * 640\r\n",
    "        rec = Rectangle((x1, y1), x2 - x1, y2-y1, facecolor='none',\r\n",
    "                    edgecolor=colormap[cl.numpy()])\r\n",
    "                        \r\n",
    "        ax.add_patch(rec)\r\n",
    "        ax.axis('off')\r\n",
    "    \r\n",
    "    plt.tight_layout()\r\n",
    "    plt.show()"
   ],
   "outputs": [],
   "metadata": {}
  },
  {
   "cell_type": "code",
   "execution_count": null,
   "source": [
    "# mapping = {1: 'vehicle', 2: 'pedestrian', 4: 'cyclist'}\r\n",
    "class_vehicle = 0\r\n",
    "class_pedestrian = 0\r\n",
    "class_cyclist = 0\r\n",
    "\r\n",
    "max_vehicle=0\r\n",
    "max_vehicle_batch=None\r\n",
    "max_pedestrian=0\r\n",
    "max_pedestrian_batch=None\r\n",
    "max_cyclist=0\r\n",
    "max_cyclist_batch=None\r\n",
    "max_class=0\r\n",
    "max_class_batch=None\r\n",
    "\r\n",
    "\r\n",
    "min_vehicle=9999\r\n",
    "min_vehicle_batch=None\r\n",
    "min_pedestrian=9999\r\n",
    "min_pedestrian_batch=None\r\n",
    "min_cyclist=9999\r\n",
    "min_cyclist_batch=None\r\n",
    "min_class=9999\r\n",
    "min_class_batch=None\r\n",
    "\r\n",
    "\r\n",
    "for batch in dataset:\r\n",
    "    groundtruth_classes = batch[\"groundtruth_classes\"].numpy()\r\n",
    "    if len(groundtruth_classes)>max_class:\r\n",
    "        max_class=len(groundtruth_classes)\r\n",
    "        max_class_batch=batch\r\n",
    "\r\n",
    "    if len(groundtruth_classes)>min_class:\r\n",
    "        min_class=len(groundtruth_classes)\r\n",
    "        min_class_batch=batch\r\n",
    "    \r\n",
    "    num_vehicle=0\r\n",
    "    num_pedestrian=0\r\n",
    "    num_cyclist=0\r\n",
    "\r\n",
    "    for cl in groundtruth_classes:\r\n",
    "        if cl is 1: num_vehicle+=1\r\n",
    "        elif cl is 2: num_pedestrian+=1\r\n",
    "        elif cl is 4: num_cyclist+=1\r\n",
    "        else: raise Exception('unexpected this label'+cl)\r\n",
    "\r\n",
    "\r\n",
    "    # \r\n",
    "    class_vehicle+=num_vehicle\r\n",
    "    class_pedestrian +=num_pedestrian \r\n",
    "    class_cyclist += num_cyclist\r\n",
    "    \r\n",
    "    # max and min number of vehicle \r\n",
    "    if num_vehicle>max_vehicle:\r\n",
    "        max_vehicle=num_vehicle\r\n",
    "        max_vehicle_batch=batch\r\n",
    "\r\n",
    "    if num_vehicle<min_vehicle:\r\n",
    "        min_vehicle=num_vehicle\r\n",
    "        min_vehicle_batch=batch\r\n",
    "\r\n",
    "    # max and min number of pedestrian\r\n",
    "    if num_pedestrian>max_pedestrian:\r\n",
    "        max_pedestrian=num_pedestrian\r\n",
    "        max_pedestrian_batch=batch\r\n",
    "\r\n",
    "    if num_pedestrian<min_pedestrian:\r\n",
    "        min_pedestrian=num_pedestrian\r\n",
    "        min_pedestrian_batch=batch\r\n",
    "\r\n",
    "    # max and min number of cyclist  \r\n",
    "    if num_cyclist>max_cyclist:\r\n",
    "        max_cyclist=num_cyclist\r\n",
    "        max_cyclist_batch=batch\r\n",
    "\r\n",
    "    if num_cyclist<min_cyclist:\r\n",
    "        min_cyclist=num_cyclist\r\n",
    "        min_cyclist_batch=batch\r\n"
   ],
   "outputs": [],
   "metadata": {}
  },
  {
   "cell_type": "code",
   "execution_count": null,
   "source": [
    "display_instances_EDA(max_class_batch,max_class,min_class_batch,min_class)"
   ],
   "outputs": [],
   "metadata": {}
  },
  {
   "cell_type": "code",
   "execution_count": null,
   "source": [
    "display_instances_EDA(max_vehicle_batch,max_vehicle,min_vehicle_batch,min_vehicle,1)"
   ],
   "outputs": [],
   "metadata": {}
  },
  {
   "cell_type": "code",
   "execution_count": null,
   "source": [
    "display_instances_EDA(max_pedestrian_batch,max_pedestrian,min_pedestrian_batch,min_pedestrian,2)"
   ],
   "outputs": [],
   "metadata": {}
  },
  {
   "cell_type": "code",
   "execution_count": null,
   "source": [
    "display_instances_EDA(max_cyclist_batch,max_cyclist,min_cyclist_batch,min_cyclist,4)"
   ],
   "outputs": [],
   "metadata": {}
  },
  {
   "cell_type": "code",
   "execution_count": null,
   "source": [
    "data = [class_vehicle,class_pedestrian,class_pedestrian]\r\n",
    "labels = ['num_vehicle', 'num_pedestrian', 'num_pedestrian']\r\n",
    "plt.title('the total number of labels in all image')\r\n",
    "plt.bar(range(len(data)), data,tick_label=labels)\r\n",
    "plt.show()"
   ],
   "outputs": [],
   "metadata": {}
  }
 ],
 "metadata": {
  "interpreter": {
   "hash": "772d2a6eaa48594e33a35662ba3590072b52a2923b82479664f0f419be61e96a"
  },
  "kernelspec": {
   "name": "python3",
   "display_name": "Python 3.6.8 64-bit ('base': conda)"
  },
  "language_info": {
   "codemirror_mode": {
    "name": "ipython",
    "version": 3
   },
   "file_extension": ".py",
   "mimetype": "text/x-python",
   "name": "python",
   "nbconvert_exporter": "python",
   "pygments_lexer": "ipython3",
   "version": "3.6.8"
  }
 },
 "nbformat": 4,
 "nbformat_minor": 4
}
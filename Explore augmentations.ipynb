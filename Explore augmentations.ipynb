{
 "cells": [
  {
   "cell_type": "markdown",
   "source": [
    "# Explore data augmentations\n",
    "\n",
    "This notebook will be used to test different data augmentation strategies. In your config file, you can modify the augmentations by adding `data_augmentation_options`. For example, I would like to add a random RGB to gray transform with a probability of 0.2:\n",
    "```\n",
    "data_augmentation_options {\n",
    "    random_rgb_to_gray {\n",
    "    probability: 0.2\n",
    "    }\n",
    "```\n",
    "\n",
    "A complete list of augmentation is provided the [`preprocessor.proto` file of the Tf Object Detection API](https://github.com/tensorflow/models/blob/master/research/object_detection/protos/preprocessor.proto)."
   ],
   "metadata": {}
  },
  {
   "cell_type": "markdown",
   "source": [
    "### Helper functions"
   ],
   "metadata": {}
  },
  {
   "cell_type": "code",
   "execution_count": null,
   "source": [
    "import matplotlib.pyplot as plt\r\n",
    "import numpy as np\r\n",
    "from matplotlib.patches import Rectangle\r\n",
    "import albumentations as A\r\n",
    "import tensorflow as tf\r\n",
    "import random"
   ],
   "outputs": [],
   "metadata": {}
  },
  {
   "cell_type": "code",
   "execution_count": null,
   "source": [
    "def recenter_image(image):\r\n",
    "    # ssd preprocessing\r\n",
    "    image += [123.68, 116.779, 103.939]\r\n",
    "    return image\r\n",
    "\r\n",
    "def display_instances(image, bboxes, classes):\r\n",
    "    image = recenter_image(image)\r\n",
    "    w, h, _ = image.shape\r\n",
    "    # resize the bboxes\r\n",
    "    bboxes[:, [0, 2]] *= w\r\n",
    "    bboxes[:, [1, 3]] *= h\r\n",
    "    delta = round(random.uniform(-0.2, 0.2),2)\r\n",
    "    trans_image = tf.image.adjust_brightness(image / 255, delta) * 255\r\n",
    "\r\n",
    "    f, ax = plt.subplots(1,2, figsize=(10, 10))\r\n",
    "    ax[0].imshow(image.astype(np.uint8))\r\n",
    "    ax[1].imshow(trans_image.astype(np.uint8))\r\n",
    "\r\n",
    "    for bb, cl in zip(bboxes, classes):\r\n",
    "        y1, x1, y2, x2 = bb\r\n",
    "        rec = Rectangle((x1, y1), x2-x1, y2-y1, facecolor='none', edgecolor='r', linewidth=2)\r\n",
    "        ax[0].add_patch(rec)\r\n",
    "        ax[1].add_patch(rec)\r\n",
    "\r\n",
    "    ax[0].set_title('the original image')\r\n",
    "    ax[1].set_title('the transformed image with brightness delta '+str(delta))\r\n",
    "    plt.show()\r\n",
    "\r\n",
    "def display_batch(batch):\r\n",
    "    # get images, bboxes and classes\r\n",
    "    batched_images = batch[0]['image'].numpy()\r\n",
    "    batched_bboxes = batch[1]['groundtruth_boxes'].numpy()\r\n",
    "    batched_classes = batch[1]['groundtruth_classes'].numpy()\r\n",
    "    num_bboxes = batch[1]['num_groundtruth_boxes'].numpy()\r\n",
    "    batch_size = batched_images.shape[0]\r\n",
    "    for idx in range(batch_size):\r\n",
    "        display_instances(batched_images[idx, ...], \r\n",
    "                          batched_bboxes[idx, :num_bboxes[idx], :],\r\n",
    "                          batched_classes[idx, ...])\r\n"
   ],
   "outputs": [],
   "metadata": {}
  },
  {
   "cell_type": "markdown",
   "source": [
    "### Display augmentations\r\n",
    "Simulate different weather, Only different light and dark conditions are simulated here"
   ],
   "metadata": {}
  },
  {
   "cell_type": "code",
   "execution_count": null,
   "source": [
    "from utils import get_train_input"
   ],
   "outputs": [],
   "metadata": {}
  },
  {
   "cell_type": "code",
   "execution_count": null,
   "source": [
    "train_dataset = get_train_input(\"./training/reference/pipeline_new.config\")"
   ],
   "outputs": [],
   "metadata": {}
  },
  {
   "cell_type": "code",
   "execution_count": null,
   "source": [
    "%matplotlib inline\r\n",
    "\r\n",
    "for batch in train_dataset.take(1):\r\n",
    "    display_batch(batch)"
   ],
   "outputs": [],
   "metadata": {
    "scrolled": true
   }
  }
 ],
 "metadata": {
  "kernelspec": {
   "display_name": "Python 3",
   "language": "python",
   "name": "python3"
  },
  "language_info": {
   "codemirror_mode": {
    "name": "ipython",
    "version": 3
   },
   "file_extension": ".py",
   "mimetype": "text/x-python",
   "name": "python",
   "nbconvert_exporter": "python",
   "pygments_lexer": "ipython3",
   "version": "3.6.9"
  }
 },
 "nbformat": 4,
 "nbformat_minor": 4
}